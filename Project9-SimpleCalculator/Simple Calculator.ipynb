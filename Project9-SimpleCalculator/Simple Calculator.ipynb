{
 "cells": [
  {
   "cell_type": "markdown",
   "id": "2657c062-87bb-4d9f-889b-81682f7bb05d",
   "metadata": {},
   "source": [
    "### Simple Calculator with NumPy – vectorized operations (arrays instead of loops)"
   ]
  },
  {
   "cell_type": "code",
   "execution_count": 1,
   "id": "55381b5a-8d03-4396-8221-94b24b0c5832",
   "metadata": {},
   "outputs": [],
   "source": [
    "import numpy as np"
   ]
  },
  {
   "cell_type": "code",
   "execution_count": 2,
   "id": "a5e898d4-820b-4450-b9c1-f43414e7942a",
   "metadata": {},
   "outputs": [
    {
     "name": "stdout",
     "output_type": "stream",
     "text": [
      "Array a: [10 20 30 40]\n",
      "Array b: [ 2  5  3 10]\n"
     ]
    }
   ],
   "source": [
    "# Step 1: Create two arrays of numbers\n",
    "a = np.array([10, 20, 30, 40])\n",
    "b = np.array([2, 5, 3, 10])\n",
    "\n",
    "print(\"Array a:\", a)\n",
    "print(\"Array b:\", b)"
   ]
  },
  {
   "cell_type": "code",
   "execution_count": 3,
   "id": "16f77aba-448b-42c1-a67e-6e33bbd8db49",
   "metadata": {},
   "outputs": [],
   "source": [
    "# Step 2: Perform vectorized operations\n",
    "addition = a + b\n",
    "subtraction = a - b\n",
    "multiplication = a * b\n",
    "division = a / b"
   ]
  },
  {
   "cell_type": "code",
   "execution_count": 4,
   "id": "908b3950-3db8-492b-8245-f947234802af",
   "metadata": {},
   "outputs": [
    {
     "name": "stdout",
     "output_type": "stream",
     "text": [
      "\n",
      "Addition: [12 25 33 50]\n",
      "Subtraction: [ 8 15 27 30]\n",
      "Multiplication: [ 20 100  90 400]\n",
      "Division: [ 5.  4. 10.  4.]\n"
     ]
    }
   ],
   "source": [
    "# Step 3: Print the results\n",
    "print(\"\\nAddition:\", addition)\n",
    "print(\"Subtraction:\", subtraction)\n",
    "print(\"Multiplication:\", multiplication)\n",
    "print(\"Division:\", division)"
   ]
  },
  {
   "cell_type": "code",
   "execution_count": null,
   "id": "955501c5-4a8f-42a4-af2f-10f5f3257324",
   "metadata": {},
   "outputs": [],
   "source": []
  }
 ],
 "metadata": {
  "kernelspec": {
   "display_name": "Python 3 (ipykernel)",
   "language": "python",
   "name": "python3"
  },
  "language_info": {
   "codemirror_mode": {
    "name": "ipython",
    "version": 3
   },
   "file_extension": ".py",
   "mimetype": "text/x-python",
   "name": "python",
   "nbconvert_exporter": "python",
   "pygments_lexer": "ipython3",
   "version": "3.11.7"
  }
 },
 "nbformat": 4,
 "nbformat_minor": 5
}
