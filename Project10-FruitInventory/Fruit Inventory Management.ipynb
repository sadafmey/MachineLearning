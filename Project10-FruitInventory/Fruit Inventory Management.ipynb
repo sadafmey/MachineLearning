{
 "cells": [
  {
   "cell_type": "markdown",
   "id": "132d0e53-f09d-4d30-b0a6-9b43347eeff6",
   "metadata": {},
   "source": [
    "### Fruit Inventory Management (Pandas) – DataFrame with add/remove/update"
   ]
  },
  {
   "cell_type": "code",
   "execution_count": 1,
   "id": "6de77316-e8c4-4a1d-918f-3cb0f623e203",
   "metadata": {},
   "outputs": [],
   "source": [
    "import pandas as pd"
   ]
  },
  {
   "cell_type": "code",
   "execution_count": 3,
   "id": "b013c5b3-d2b5-420b-a205-d8e71191f740",
   "metadata": {},
   "outputs": [
    {
     "name": "stdout",
     "output_type": "stream",
     "text": [
      "Initial Inventory:\n",
      "     Fruit  Quantity  Price\n",
      "0   Apple        50    0.5\n",
      "1  Banana       100    0.2\n",
      "2  Orange        75    0.3\n",
      "3   Mango        30    1.0\n"
     ]
    }
   ],
   "source": [
    "# Step 1: Create initial fruit inventory\n",
    "data = {\n",
    "    \"Fruit\": [\"Apple\", \"Banana\", \"Orange\", \"Mango\"],\n",
    "    \"Quantity\": [50, 100, 75, 30],\n",
    "    \"Price\": [0.5, 0.2, 0.3, 1.0]\n",
    "}\n",
    "inventory = pd.DataFrame(data)\n",
    "print(\"Initial Inventory:\\n\", inventory)"
   ]
  },
  {
   "cell_type": "code",
   "execution_count": 4,
   "id": "434a8dfe-6cd9-4fdb-8857-def961083de8",
   "metadata": {},
   "outputs": [
    {
     "name": "stdout",
     "output_type": "stream",
     "text": [
      "\n",
      "After Adding Grapes:\n",
      "     Fruit  Quantity  Price\n",
      "0   Apple        50    0.5\n",
      "1  Banana       100    0.2\n",
      "2  Orange        75    0.3\n",
      "3   Mango        30    1.0\n",
      "4  Grapes        60    0.4\n"
     ]
    }
   ],
   "source": [
    "# Step 2: Add a new fruit\n",
    "new_fruit = pd.DataFrame({\"Fruit\": [\"Grapes\"], \"Quantity\": [60], \"Price\": [0.4]})\n",
    "inventory = pd.concat([inventory, new_fruit], ignore_index=True)\n",
    "print(\"\\nAfter Adding Grapes:\\n\", inventory)"
   ]
  },
  {
   "cell_type": "code",
   "execution_count": 5,
   "id": "7aa5b547-af1b-427f-8b35-60f820e52060",
   "metadata": {},
   "outputs": [
    {
     "name": "stdout",
     "output_type": "stream",
     "text": [
      "\n",
      "After Updating Mango Quantity:\n",
      "     Fruit  Quantity  Price\n",
      "0   Apple        50    0.5\n",
      "1  Banana       100    0.2\n",
      "2  Orange        75    0.3\n",
      "3   Mango        50    1.0\n",
      "4  Grapes        60    0.4\n"
     ]
    }
   ],
   "source": [
    "# Step 3: Update quantity of Mangoes\n",
    "inventory.loc[inventory[\"Fruit\"] == \"Mango\", \"Quantity\"] += 20\n",
    "print(\"\\nAfter Updating Mango Quantity:\\n\", inventory)"
   ]
  },
  {
   "cell_type": "code",
   "execution_count": 6,
   "id": "e8337cad-40fb-40dd-887d-1056fa07530d",
   "metadata": {},
   "outputs": [
    {
     "name": "stdout",
     "output_type": "stream",
     "text": [
      "\n",
      "After Removing Bananas:\n",
      "     Fruit  Quantity  Price\n",
      "0   Apple        50    0.5\n",
      "2  Orange        75    0.3\n",
      "3   Mango        50    1.0\n",
      "4  Grapes        60    0.4\n"
     ]
    }
   ],
   "source": [
    "# Step 4: Remove Bananas from inventory\n",
    "inventory = inventory[inventory[\"Fruit\"] != \"Banana\"]\n",
    "print(\"\\nAfter Removing Bananas:\\n\", inventory)"
   ]
  },
  {
   "cell_type": "code",
   "execution_count": null,
   "id": "46dbed56-0ebe-4289-93be-0c9bfff2ea61",
   "metadata": {},
   "outputs": [],
   "source": []
  }
 ],
 "metadata": {
  "kernelspec": {
   "display_name": "Python 3 (ipykernel)",
   "language": "python",
   "name": "python3"
  },
  "language_info": {
   "codemirror_mode": {
    "name": "ipython",
    "version": 3
   },
   "file_extension": ".py",
   "mimetype": "text/x-python",
   "name": "python",
   "nbconvert_exporter": "python",
   "pygments_lexer": "ipython3",
   "version": "3.11.7"
  }
 },
 "nbformat": 4,
 "nbformat_minor": 5
}
