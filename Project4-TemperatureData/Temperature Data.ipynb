{
 "cells": [
  {
   "cell_type": "markdown",
   "id": "1c682835-3cd0-4643-b95d-b150d3a3b491",
   "metadata": {},
   "source": [
    "### Project 4: Temperature Data (Pandas + Matplotlib)\n"
   ]
  },
  {
   "cell_type": "code",
   "execution_count": 1,
   "id": "9e21f57e-4d91-4b3e-aad8-afcb265751fe",
   "metadata": {},
   "outputs": [],
   "source": [
    "import pandas as pd\n",
    "import matplotlib.pyplot as plt"
   ]
  },
  {
   "cell_type": "code",
   "execution_count": 2,
   "id": "c104e42a-6464-42f2-8d22-1c05363259b3",
   "metadata": {},
   "outputs": [
    {
     "name": "stdout",
     "output_type": "stream",
     "text": [
      "Temperature Data:\n",
      "    Day  Morning  Afternoon  Night\n",
      "0  Mon       18         25     15\n",
      "1  Tue       20         27     16\n",
      "2  Wed       19         26     14\n",
      "3  Thu       21         30     17\n",
      "4  Fri       22         28     18\n",
      "5  Sat       20         29     16\n",
      "6  Sun       19         27     15\n"
     ]
    }
   ],
   "source": [
    "# Step 1: Create a Pandas DataFrame (7 days × 3 times of day)\n",
    "data = {\n",
    "    \"Day\": [\"Mon\", \"Tue\", \"Wed\", \"Thu\", \"Fri\", \"Sat\", \"Sun\"],\n",
    "    \"Morning\": [18, 20, 19, 21, 22, 20, 19],\n",
    "    \"Afternoon\": [25, 27, 26, 30, 28, 29, 27],\n",
    "    \"Night\": [15, 16, 14, 17, 18, 16, 15]\n",
    "}\n",
    "\n",
    "df = pd.DataFrame(data)\n",
    "print(\"Temperature Data:\\n\", df)"
   ]
  },
  {
   "cell_type": "code",
   "execution_count": 3,
   "id": "41b23f90-46ca-4f46-b6d8-ed69e371ed4f",
   "metadata": {},
   "outputs": [
    {
     "name": "stdout",
     "output_type": "stream",
     "text": [
      "\n",
      "Data with Average Temperature:\n",
      "    Day  Morning  Afternoon  Night    Average\n",
      "0  Mon       18         25     15  19.333333\n",
      "1  Tue       20         27     16  21.000000\n",
      "2  Wed       19         26     14  19.666667\n",
      "3  Thu       21         30     17  22.666667\n",
      "4  Fri       22         28     18  22.666667\n",
      "5  Sat       20         29     16  21.666667\n",
      "6  Sun       19         27     15  20.333333\n"
     ]
    }
   ],
   "source": [
    "# Step 2: Calculate average temperature per day\n",
    "df[\"Average\"] = df[[\"Morning\", \"Afternoon\", \"Night\"]].mean(axis=1)\n",
    "print(\"\\nData with Average Temperature:\\n\", df)"
   ]
  },
  {
   "cell_type": "code",
   "execution_count": 4,
   "id": "c3b81190-44f3-4e3d-bc50-8966926fe6c1",
   "metadata": {},
   "outputs": [
    {
     "name": "stdout",
     "output_type": "stream",
     "text": [
      "\n",
      "Hottest Day:\n",
      " Day                Thu\n",
      "Morning             21\n",
      "Afternoon           30\n",
      "Night               17\n",
      "Average      22.666667\n",
      "Name: 3, dtype: object\n",
      "\n",
      "Coldest Day:\n",
      " Day                Mon\n",
      "Morning             18\n",
      "Afternoon           25\n",
      "Night               15\n",
      "Average      19.333333\n",
      "Name: 0, dtype: object\n"
     ]
    }
   ],
   "source": [
    "# Step 3: Find the hottest and coldest day (based on average temperature)\n",
    "hottest_day = df.loc[df[\"Average\"].idxmax()]\n",
    "coldest_day = df.loc[df[\"Average\"].idxmin()]\n",
    "print(\"\\nHottest Day:\\n\", hottest_day)\n",
    "print(\"\\nColdest Day:\\n\", coldest_day)"
   ]
  },
  {
   "cell_type": "code",
   "execution_count": null,
   "id": "e2673842-38b5-4a31-b2cd-e3bc15ddfdf6",
   "metadata": {},
   "outputs": [],
   "source": []
  }
 ],
 "metadata": {
  "kernelspec": {
   "display_name": "Python 3 (ipykernel)",
   "language": "python",
   "name": "python3"
  },
  "language_info": {
   "codemirror_mode": {
    "name": "ipython",
    "version": 3
   },
   "file_extension": ".py",
   "mimetype": "text/x-python",
   "name": "python",
   "nbconvert_exporter": "python",
   "pygments_lexer": "ipython3",
   "version": "3.11.7"
  }
 },
 "nbformat": 4,
 "nbformat_minor": 5
}
