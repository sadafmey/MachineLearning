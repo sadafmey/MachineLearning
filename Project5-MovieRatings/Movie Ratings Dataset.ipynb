{
 "cells": [
  {
   "cell_type": "markdown",
   "id": "1613a846-2870-4621-8d0f-565aaa1cce25",
   "metadata": {},
   "source": [
    "### Project 5: Movie Ratings Dataset (Pandas + Matplotlib)"
   ]
  },
  {
   "cell_type": "code",
   "execution_count": 1,
   "id": "0ea56ea3-03c1-4f02-aa92-d96b8f1073a0",
   "metadata": {},
   "outputs": [],
   "source": [
    "import pandas as pd\n",
    "import matplotlib.pyplot as plt "
   ]
  },
  {
   "cell_type": "code",
   "execution_count": 2,
   "id": "001cb2bb-2965-4901-bc72-cdd60d4fcea7",
   "metadata": {},
   "outputs": [],
   "source": [
    "data = {\n",
    "    \"Movie\": [\n",
    "        \"Inception\", \"The Dark Knight\", \"Interstellar\", \n",
    "        \"Titanic\", \"Avatar\", \"The Godfather\", \n",
    "        \"The Matrix\", \"Toy Story\", \"Finding Nemo\", \"Joker\"\n",
    "    ],\n",
    "    \"Genre\": [\n",
    "        \"Sci-Fi\", \"Action\", \"Sci-Fi\", \n",
    "        \"Romance\", \"Sci-Fi\", \"Crime\", \n",
    "        \"Sci-Fi\", \"Animation\", \"Animation\", \"Crime\"\n",
    "    ],\n",
    "    \"Rating\": [8.8, 9.0, 8.6, 7.8, 7.9, 9.2, 8.7, 8.3, 8.1, 8.5]\n",
    "}"
   ]
  },
  {
   "cell_type": "code",
   "execution_count": null,
   "id": "9b6d8c43-c500-4329-8503-d8b99872b3ea",
   "metadata": {},
   "outputs": [],
   "source": []
  }
 ],
 "metadata": {
  "kernelspec": {
   "display_name": "Python 3 (ipykernel)",
   "language": "python",
   "name": "python3"
  },
  "language_info": {
   "codemirror_mode": {
    "name": "ipython",
    "version": 3
   },
   "file_extension": ".py",
   "mimetype": "text/x-python",
   "name": "python",
   "nbconvert_exporter": "python",
   "pygments_lexer": "ipython3",
   "version": "3.11.7"
  }
 },
 "nbformat": 4,
 "nbformat_minor": 5
}
