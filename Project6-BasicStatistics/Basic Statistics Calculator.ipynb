{
 "cells": [
  {
   "cell_type": "markdown",
   "id": "7003d5a2-3522-464b-968a-3b9b145d084a",
   "metadata": {},
   "source": [
    "### Basic Statistics Calculator"
   ]
  },
  {
   "cell_type": "code",
   "execution_count": 1,
   "id": "fe214ec0-d4ee-4ebd-bc22-8c9f66cff34e",
   "metadata": {},
   "outputs": [],
   "source": [
    "import numpy as np"
   ]
  },
  {
   "cell_type": "code",
   "execution_count": 2,
   "id": "93509eb3-ff34-4fc5-925b-d75cfc0c7750",
   "metadata": {},
   "outputs": [
    {
     "name": "stdout",
     "output_type": "stream",
     "text": [
      "Data: [75 88 92 67 80 85 90 78 84 91]\n"
     ]
    }
   ],
   "source": [
    "# Step 1: Sample data (e.g., student scores)\n",
    "data = np.array([75, 88, 92, 67, 80, 85, 90, 78, 84, 91])\n",
    "print(\"Data:\", data)"
   ]
  },
  {
   "cell_type": "code",
   "execution_count": 3,
   "id": "11970ed5-1e86-4c49-865c-8e6991361766",
   "metadata": {},
   "outputs": [
    {
     "name": "stdout",
     "output_type": "stream",
     "text": [
      "Mean: 83.0\n"
     ]
    }
   ],
   "source": [
    "# Step 2: Calculate mean\n",
    "mean_value = np.mean(data)\n",
    "print(\"Mean:\", mean_value)"
   ]
  },
  {
   "cell_type": "code",
   "execution_count": 4,
   "id": "47c217f0-1099-442b-968d-b34269ccc48d",
   "metadata": {},
   "outputs": [
    {
     "name": "stdout",
     "output_type": "stream",
     "text": [
      "Variance: 57.8\n"
     ]
    }
   ],
   "source": [
    "# Step 3: Calculate variance\n",
    "variance_value = np.var(data)\n",
    "print(\"Variance:\", variance_value)"
   ]
  },
  {
   "cell_type": "code",
   "execution_count": 5,
   "id": "edde33be-7752-432a-8782-f369403afc89",
   "metadata": {},
   "outputs": [
    {
     "name": "stdout",
     "output_type": "stream",
     "text": [
      "Standard Deviation: 7.602631123499285\n"
     ]
    }
   ],
   "source": [
    "# Step 4: Calculate standard deviation\n",
    "std_value = np.std(data)\n",
    "print(\"Standard Deviation:\", std_value)"
   ]
  },
  {
   "cell_type": "code",
   "execution_count": null,
   "id": "8ab47877-6009-431a-96de-5f70c81b69b3",
   "metadata": {},
   "outputs": [],
   "source": []
  }
 ],
 "metadata": {
  "kernelspec": {
   "display_name": "Python 3 (ipykernel)",
   "language": "python",
   "name": "python3"
  },
  "language_info": {
   "codemirror_mode": {
    "name": "ipython",
    "version": 3
   },
   "file_extension": ".py",
   "mimetype": "text/x-python",
   "name": "python",
   "nbconvert_exporter": "python",
   "pygments_lexer": "ipython3",
   "version": "3.11.7"
  }
 },
 "nbformat": 4,
 "nbformat_minor": 5
}
